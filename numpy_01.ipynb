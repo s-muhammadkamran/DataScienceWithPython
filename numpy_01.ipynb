{
 "cells": [
  {
   "cell_type": "code",
   "execution_count": 2,
   "id": "9e930e23",
   "metadata": {},
   "outputs": [],
   "source": [
    "import numpy as np"
   ]
  },
  {
   "cell_type": "markdown",
   "id": "4876ab46",
   "metadata": {},
   "source": [
    "## Generating Data"
   ]
  },
  {
   "cell_type": "code",
   "execution_count": 3,
   "id": "ce4900e9",
   "metadata": {},
   "outputs": [
    {
     "data": {
      "text/plain": [
       "array([1.71, 1.84, 1.58, ..., 1.8 , 1.6 , 1.75])"
      ]
     },
     "execution_count": 3,
     "metadata": {},
     "output_type": "execute_result"
    }
   ],
   "source": [
    "height = np.round(np.random.normal(1.75, 0.20, 5000), 2)\n",
    "height"
   ]
  },
  {
   "cell_type": "code",
   "execution_count": 4,
   "id": "5b8494aa",
   "metadata": {},
   "outputs": [
    {
     "data": {
      "text/plain": [
       "array([38.13, 43.81, 59.65, ..., 58.17, 54.08, 62.39])"
      ]
     },
     "execution_count": 4,
     "metadata": {},
     "output_type": "execute_result"
    }
   ],
   "source": [
    "weight = np.round(np.random.normal(60.32, 15, 5000), 2)\n",
    "weight"
   ]
  },
  {
   "cell_type": "code",
   "execution_count": 5,
   "id": "dddebb2a",
   "metadata": {},
   "outputs": [
    {
     "data": {
      "text/plain": [
       "array([[ 1.71, 38.13],\n",
       "       [ 1.84, 43.81],\n",
       "       [ 1.58, 59.65],\n",
       "       ...,\n",
       "       [ 1.8 , 58.17],\n",
       "       [ 1.6 , 54.08],\n",
       "       [ 1.75, 62.39]])"
      ]
     },
     "execution_count": 5,
     "metadata": {},
     "output_type": "execute_result"
    }
   ],
   "source": [
    "np_city = np.column_stack((height, weight))\n",
    "np_city"
   ]
  },
  {
   "cell_type": "markdown",
   "id": "15f51a9c",
   "metadata": {},
   "source": [
    "## *Creating a Numpy Array using a List*"
   ]
  },
  {
   "cell_type": "code",
   "execution_count": 6,
   "id": "5df20f1e",
   "metadata": {},
   "outputs": [
    {
     "data": {
      "text/plain": [
       "array([3, 4, 5])"
      ]
     },
     "execution_count": 6,
     "metadata": {},
     "output_type": "execute_result"
    }
   ],
   "source": [
    "a_list = [3,4,5]\n",
    "np.array(a_list)"
   ]
  },
  {
   "cell_type": "markdown",
   "id": "9f6cc2eb",
   "metadata": {},
   "source": [
    "## Creating array of linearly-spaced elements\n",
    "### Starting with 0, ending at 30, stepping by 2"
   ]
  },
  {
   "cell_type": "code",
   "execution_count": 7,
   "id": "dde3687f",
   "metadata": {},
   "outputs": [
    {
     "data": {
      "text/plain": [
       "array([ 0,  2,  4,  6,  8, 10, 12, 14, 16, 18, 20, 22, 24, 26, 28])"
      ]
     },
     "execution_count": 7,
     "metadata": {},
     "output_type": "execute_result"
    }
   ],
   "source": [
    "np.arange(0,30,2)"
   ]
  },
  {
   "cell_type": "markdown",
   "id": "20b51690",
   "metadata": {},
   "source": [
    "## Creating an array by dividing a range into a number of parts\n",
    "### starting with 0 and ending at 15, divided into 5 elements"
   ]
  },
  {
   "cell_type": "code",
   "execution_count": 8,
   "id": "70969a87",
   "metadata": {},
   "outputs": [
    {
     "data": {
      "text/plain": [
       "array([ 0.  ,  3.75,  7.5 , 11.25, 15.  ])"
      ]
     },
     "execution_count": 8,
     "metadata": {},
     "output_type": "execute_result"
    }
   ],
   "source": [
    "np.linspace(0,15,5)"
   ]
  },
  {
   "cell_type": "markdown",
   "id": "2c346fe0",
   "metadata": {},
   "source": [
    "## Creating a 2D array of 3rows, 3cols with normally distributed random values\n",
    "### mean at 0 and standard deviation 1"
   ]
  },
  {
   "cell_type": "code",
   "execution_count": 9,
   "id": "082831fc",
   "metadata": {},
   "outputs": [
    {
     "data": {
      "text/plain": [
       "array([[-0.58927266, -0.91339482, -0.43925185],\n",
       "       [ 0.71885713,  0.16303394, -1.64052602],\n",
       "       [ 1.24897366,  0.73504868,  0.68421436]])"
      ]
     },
     "execution_count": 9,
     "metadata": {},
     "output_type": "execute_result"
    }
   ],
   "source": [
    "np.random.normal(0,1,(3,3))"
   ]
  },
  {
   "cell_type": "markdown",
   "id": "bd1aaac2",
   "metadata": {},
   "source": [
    "## Useful array attributes"
   ]
  },
  {
   "cell_type": "code",
   "execution_count": 24,
   "id": "2559fa35",
   "metadata": {},
   "outputs": [
    {
     "name": "stdout",
     "output_type": "stream",
     "text": [
      "[[4 2 0 3 2]\n",
      " [0 7 5 9 0]\n",
      " [2 7 2 9 2]\n",
      " [3 3 2 3 4]]\n",
      "4\n",
      "2\n",
      "0\n",
      "3\n",
      "2\n",
      "0\n",
      "7\n",
      "5\n",
      "9\n",
      "0\n",
      "2\n",
      "7\n",
      "2\n",
      "9\n",
      "2\n",
      "3\n",
      "3\n",
      "2\n",
      "3\n",
      "4\n"
     ]
    }
   ],
   "source": [
    "#Iterating over a numpy N Dimensional array\n",
    "\n",
    "array_2D = np.random.randint(10, size=(4,5))\n",
    "print(array_2D)\n",
    "\n",
    "for item in np.nditer(array_2D):\n",
    "    print(item)"
   ]
  },
  {
   "cell_type": "code",
   "execution_count": 11,
   "id": "a85440ba",
   "metadata": {},
   "outputs": [],
   "source": [
    "# Set a seed value to generate same random values on every run\n",
    "np.random.seed(0)\n",
    "\n",
    "# Create 3 arrays(1D, 2D & 3D)\n",
    "arr1 = np.random.randint(10, size=6)\n",
    "arr2 = np.random.randint(10, size=(3,4))\n",
    "arr3 = np.random.randint(10, size=(3,4,5))"
   ]
  },
  {
   "cell_type": "code",
   "execution_count": 12,
   "id": "27ea6b01",
   "metadata": {},
   "outputs": [
    {
     "name": "stdout",
     "output_type": "stream",
     "text": [
      "[5 0 3 3 7 9]\n",
      "[[3 5 2 4]\n",
      " [7 6 8 8]\n",
      " [1 6 7 7]]\n",
      "[[[8 1 5 9 8]\n",
      "  [9 4 3 0 3]\n",
      "  [5 0 2 3 8]\n",
      "  [1 3 3 3 7]]\n",
      "\n",
      " [[0 1 9 9 0]\n",
      "  [4 7 3 2 7]\n",
      "  [2 0 0 4 5]\n",
      "  [5 6 8 4 1]]\n",
      "\n",
      " [[4 9 8 1 1]\n",
      "  [7 9 9 3 6]\n",
      "  [7 2 0 3 5]\n",
      "  [9 4 4 6 4]]]\n"
     ]
    }
   ],
   "source": [
    "print(arr1, arr2, arr3, sep=\"\\n\")"
   ]
  },
  {
   "cell_type": "code",
   "execution_count": 13,
   "id": "ea8bf232",
   "metadata": {},
   "outputs": [
    {
     "name": "stdout",
     "output_type": "stream",
     "text": [
      "Arr3 type:  <class 'numpy.ndarray'>\n",
      "Arr3 ndim:  3\n",
      "Arr3 shape:  (3, 4, 5)\n",
      "Arr3 size:  60\n",
      "Arr3 bytes:  240 bytes\n"
     ]
    }
   ],
   "source": [
    "## printing the dimension, shape, size, and bytes of an array\n",
    "print(\"Arr3 type: \", type(arr3))\n",
    "print(\"Arr3 ndim: \", arr3.ndim)\n",
    "print(\"Arr3 shape: \", arr3.shape)\n",
    "print(\"Arr3 size: \", arr3.size)\n",
    "print(\"Arr3 bytes: \", arr3.nbytes, \"bytes\")"
   ]
  },
  {
   "cell_type": "markdown",
   "id": "0b30f218",
   "metadata": {},
   "source": [
    "## Indexing and slicing"
   ]
  },
  {
   "cell_type": "code",
   "execution_count": 14,
   "id": "591c7305",
   "metadata": {},
   "outputs": [
    {
     "name": "stdout",
     "output_type": "stream",
     "text": [
      "1D Array: \n",
      " [5 0 3 3 7 9]\n",
      "First element: \n",
      " 5\n",
      "Last element: \n",
      " 9\n",
      "First 3 elements: \n",
      " [5 0 3]\n",
      "Element after 4th index: \n",
      " [7 9]\n",
      "Subarray from 3rd index to 7th index: \n",
      " [3 7 9]\n",
      "Alternate elements: \n",
      " [5 3 7]\n",
      "Reversed array: \n",
      " [9 7 3 3 0 5]\n"
     ]
    }
   ],
   "source": [
    "print(\"1D Array: \\n\", arr1)\n",
    "print(\"First element: \\n\", arr1[0])\n",
    "print(\"Last element: \\n\", arr1[-1])\n",
    "print(\"First 3 elements: \\n\", arr1[:3])\n",
    "print(\"Element after 4th index: \\n\", arr1[4:])\n",
    "print(\"Subarray from 3rd index to 7th index: \\n\", arr1[3:8])\n",
    "print(\"Alternate elements: \\n\", arr1[::2])\n",
    "print(\"Reversed array: \\n\", arr1[::-1])"
   ]
  },
  {
   "cell_type": "code",
   "execution_count": 15,
   "id": "a00bf2b0",
   "metadata": {},
   "outputs": [
    {
     "name": "stdout",
     "output_type": "stream",
     "text": [
      "2D Array: \n",
      " [[3 5 2 4]\n",
      " [7 6 8 8]\n",
      " [1 6 7 7]]\n",
      "2nd Element of the 3rd row: \n",
      " 6\n",
      "Slicing the array to get 2nd and 3rd rows: \n",
      " [[7 6 8 8]\n",
      " [1 6 7 7]]\n",
      "Alternate columns: \n",
      " [[3 2]\n",
      " [7 8]\n",
      " [1 7]]\n"
     ]
    }
   ],
   "source": [
    "print(\"2D Array: \\n\", arr2)\n",
    "print(\"2nd Element of the 3rd row: \\n\", arr2[2,1])\n",
    "print(\"Slicing the array to get 2nd and 3rd rows: \\n\", arr2[1:3,:] )\n",
    "print(\"Alternate columns: \\n\", arr2[:,::2])"
   ]
  },
  {
   "cell_type": "markdown",
   "id": "e9979c2a",
   "metadata": {},
   "source": [
    "## Basic Statistics"
   ]
  },
  {
   "cell_type": "code",
   "execution_count": 16,
   "id": "e9512530",
   "metadata": {},
   "outputs": [
    {
     "data": {
      "text/plain": [
       "3.6666666666666665"
      ]
     },
     "execution_count": 16,
     "metadata": {},
     "output_type": "execute_result"
    }
   ],
   "source": [
    "# Average or Mean\n",
    "np.mean(arr2[:,0])"
   ]
  },
  {
   "cell_type": "code",
   "execution_count": 17,
   "id": "a75d51f6",
   "metadata": {},
   "outputs": [
    {
     "data": {
      "text/plain": [
       "5.0"
      ]
     },
     "execution_count": 17,
     "metadata": {},
     "output_type": "execute_result"
    }
   ],
   "source": [
    "# Sort and the middle value\n",
    "np.median(arr3[:,:,0])"
   ]
  },
  {
   "cell_type": "code",
   "execution_count": 18,
   "id": "4a07af81",
   "metadata": {},
   "outputs": [
    {
     "data": {
      "text/plain": [
       "array([[1.        , 0.18898224],\n",
       "       [0.18898224, 1.        ]])"
      ]
     },
     "execution_count": 18,
     "metadata": {},
     "output_type": "execute_result"
    }
   ],
   "source": [
    "# Co Relation between first and second column\n",
    "np.corrcoef(arr2[:,0], arr2[:,1])"
   ]
  },
  {
   "cell_type": "code",
   "execution_count": 19,
   "id": "c3c33daa",
   "metadata": {},
   "outputs": [
    {
     "data": {
      "text/plain": [
       "2.8999521068842196"
      ]
     },
     "execution_count": 19,
     "metadata": {},
     "output_type": "execute_result"
    }
   ],
   "source": [
    "# Standard deviation\n",
    "np.std(arr3[:,:,0])"
   ]
  },
  {
   "cell_type": "code",
   "execution_count": 20,
   "id": "dbdfb677",
   "metadata": {},
   "outputs": [],
   "source": [
    "pass"
   ]
  },
  {
   "cell_type": "code",
   "execution_count": 21,
   "id": "f51c3acf",
   "metadata": {},
   "outputs": [
    {
     "data": {
      "text/plain": [
       "263"
      ]
     },
     "execution_count": 21,
     "metadata": {},
     "output_type": "execute_result"
    }
   ],
   "source": [
    "#sum\n",
    "np.sum(arr3)"
   ]
  },
  {
   "cell_type": "code",
   "execution_count": 22,
   "id": "f83b4271",
   "metadata": {},
   "outputs": [
    {
     "name": "stdout",
     "output_type": "stream",
     "text": [
      "[[[8 1 5 9 8]\n",
      "  [9 4 3 0 3]\n",
      "  [5 0 2 3 8]\n",
      "  [1 3 3 3 7]]\n",
      "\n",
      " [[0 1 9 9 0]\n",
      "  [4 7 3 2 7]\n",
      "  [2 0 0 4 5]\n",
      "  [5 6 8 4 1]]\n",
      "\n",
      " [[4 9 8 1 1]\n",
      "  [7 9 9 3 6]\n",
      "  [7 2 0 3 5]\n",
      "  [9 4 4 6 4]]]\n",
      "[[[1 5 8 8 9]\n",
      "  [0 3 3 4 9]\n",
      "  [0 2 3 5 8]\n",
      "  [1 3 3 3 7]]\n",
      "\n",
      " [[0 0 1 9 9]\n",
      "  [2 3 4 7 7]\n",
      "  [0 0 2 4 5]\n",
      "  [1 4 5 6 8]]\n",
      "\n",
      " [[1 1 4 8 9]\n",
      "  [3 6 7 9 9]\n",
      "  [0 2 3 5 7]\n",
      "  [4 4 4 6 9]]]\n"
     ]
    }
   ],
   "source": [
    "print(arr3)\n",
    "print(np.sort(arr3))"
   ]
  },
  {
   "cell_type": "code",
   "execution_count": null,
   "id": "143d86bb",
   "metadata": {},
   "outputs": [],
   "source": []
  }
 ],
 "metadata": {
  "kernelspec": {
   "display_name": "Python 3 (ipykernel)",
   "language": "python",
   "name": "python3"
  },
  "language_info": {
   "codemirror_mode": {
    "name": "ipython",
    "version": 3
   },
   "file_extension": ".py",
   "mimetype": "text/x-python",
   "name": "python",
   "nbconvert_exporter": "python",
   "pygments_lexer": "ipython3",
   "version": "3.9.7"
  }
 },
 "nbformat": 4,
 "nbformat_minor": 5
}
